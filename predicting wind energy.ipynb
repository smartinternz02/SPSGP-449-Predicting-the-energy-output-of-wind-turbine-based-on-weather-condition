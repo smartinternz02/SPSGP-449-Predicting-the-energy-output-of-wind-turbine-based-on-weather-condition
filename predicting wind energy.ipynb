{
 "cells": [
  {
   "cell_type": "markdown",
   "metadata": {},
   "source": [
    "# Random Forest Regression"
   ]
  },
  {
   "cell_type": "code",
   "execution_count": 1,
   "metadata": {},
   "outputs": [],
   "source": [
    "import pandas as pd\n",
    "import numpy as np\n",
    "import matplotlib.pyplot as plt\n",
    "import seaborn as sns\n",
    "import joblib"
   ]
  },
  {
   "cell_type": "code",
   "execution_count": 2,
   "metadata": {},
   "outputs": [],
   "source": [
    "#Import the salaries dataset\n",
    "data2=pd.read_csv(\"dataset.csv\")"
   ]
  },
  {
   "cell_type": "code",
   "execution_count": 3,
   "metadata": {},
   "outputs": [
    {
     "data": {
      "text/html": [
       "<div>\n",
       "<style scoped>\n",
       "    .dataframe tbody tr th:only-of-type {\n",
       "        vertical-align: middle;\n",
       "    }\n",
       "\n",
       "    .dataframe tbody tr th {\n",
       "        vertical-align: top;\n",
       "    }\n",
       "\n",
       "    .dataframe thead th {\n",
       "        text-align: right;\n",
       "    }\n",
       "</style>\n",
       "<table border=\"1\" class=\"dataframe\">\n",
       "  <thead>\n",
       "    <tr style=\"text-align: right;\">\n",
       "      <th></th>\n",
       "      <th>Wind Speed (m/s)</th>\n",
       "      <th>Theoretical_Power_Curve (KWh)</th>\n",
       "      <th>Wind Direction</th>\n",
       "      <th>end_date</th>\n",
       "      <th>maxtempC</th>\n",
       "      <th>windGustKmph</th>\n",
       "      <th>DewPointC</th>\n",
       "      <th>windChillC</th>\n",
       "      <th>humidity</th>\n",
       "      <th>precipMM</th>\n",
       "      <th>pressure</th>\n",
       "      <th>LV ActivePower</th>\n",
       "    </tr>\n",
       "  </thead>\n",
       "  <tbody>\n",
       "    <tr>\n",
       "      <td>0</td>\n",
       "      <td>5.311336</td>\n",
       "      <td>416.328908</td>\n",
       "      <td>259.994904</td>\n",
       "      <td>01-01-2018 00:00</td>\n",
       "      <td>10</td>\n",
       "      <td>11.125000</td>\n",
       "      <td>2.208333</td>\n",
       "      <td>6.333333</td>\n",
       "      <td>69.916667</td>\n",
       "      <td>0.0</td>\n",
       "      <td>1017.625000</td>\n",
       "      <td>380.047790</td>\n",
       "    </tr>\n",
       "    <tr>\n",
       "      <td>1</td>\n",
       "      <td>5.672167</td>\n",
       "      <td>519.917511</td>\n",
       "      <td>268.641113</td>\n",
       "      <td>01-01-2018 00:10</td>\n",
       "      <td>10</td>\n",
       "      <td>11.125000</td>\n",
       "      <td>2.208333</td>\n",
       "      <td>6.333333</td>\n",
       "      <td>69.916667</td>\n",
       "      <td>0.0</td>\n",
       "      <td>1017.625000</td>\n",
       "      <td>453.769196</td>\n",
       "    </tr>\n",
       "    <tr>\n",
       "      <td>2</td>\n",
       "      <td>5.216037</td>\n",
       "      <td>390.900016</td>\n",
       "      <td>272.564789</td>\n",
       "      <td>01-01-2018 00:20</td>\n",
       "      <td>10</td>\n",
       "      <td>11.125000</td>\n",
       "      <td>2.208333</td>\n",
       "      <td>6.333333</td>\n",
       "      <td>69.916667</td>\n",
       "      <td>0.0</td>\n",
       "      <td>1017.625000</td>\n",
       "      <td>306.376587</td>\n",
       "    </tr>\n",
       "    <tr>\n",
       "      <td>3</td>\n",
       "      <td>5.659674</td>\n",
       "      <td>516.127569</td>\n",
       "      <td>271.258087</td>\n",
       "      <td>01-01-2018 00:30</td>\n",
       "      <td>10</td>\n",
       "      <td>11.125000</td>\n",
       "      <td>2.208333</td>\n",
       "      <td>6.333333</td>\n",
       "      <td>69.916667</td>\n",
       "      <td>0.0</td>\n",
       "      <td>1017.625000</td>\n",
       "      <td>419.645904</td>\n",
       "    </tr>\n",
       "    <tr>\n",
       "      <td>4</td>\n",
       "      <td>5.577941</td>\n",
       "      <td>491.702972</td>\n",
       "      <td>265.674286</td>\n",
       "      <td>01-01-2018 00:40</td>\n",
       "      <td>10</td>\n",
       "      <td>11.125000</td>\n",
       "      <td>2.208333</td>\n",
       "      <td>6.333333</td>\n",
       "      <td>69.916667</td>\n",
       "      <td>0.0</td>\n",
       "      <td>1017.625000</td>\n",
       "      <td>380.650696</td>\n",
       "    </tr>\n",
       "    <tr>\n",
       "      <td>...</td>\n",
       "      <td>...</td>\n",
       "      <td>...</td>\n",
       "      <td>...</td>\n",
       "      <td>...</td>\n",
       "      <td>...</td>\n",
       "      <td>...</td>\n",
       "      <td>...</td>\n",
       "      <td>...</td>\n",
       "      <td>...</td>\n",
       "      <td>...</td>\n",
       "      <td>...</td>\n",
       "      <td>...</td>\n",
       "    </tr>\n",
       "    <tr>\n",
       "      <td>50525</td>\n",
       "      <td>11.404030</td>\n",
       "      <td>3397.190793</td>\n",
       "      <td>80.502724</td>\n",
       "      <td>31-12-2018 23:10</td>\n",
       "      <td>7</td>\n",
       "      <td>15.666667</td>\n",
       "      <td>-0.708333</td>\n",
       "      <td>1.333333</td>\n",
       "      <td>72.166667</td>\n",
       "      <td>0.0</td>\n",
       "      <td>1023.708333</td>\n",
       "      <td>2963.980957</td>\n",
       "    </tr>\n",
       "    <tr>\n",
       "      <td>50526</td>\n",
       "      <td>7.332648</td>\n",
       "      <td>1173.055771</td>\n",
       "      <td>84.062599</td>\n",
       "      <td>31-12-2018 23:20</td>\n",
       "      <td>7</td>\n",
       "      <td>15.666667</td>\n",
       "      <td>-0.708333</td>\n",
       "      <td>1.333333</td>\n",
       "      <td>72.166667</td>\n",
       "      <td>0.0</td>\n",
       "      <td>1023.708333</td>\n",
       "      <td>1684.353027</td>\n",
       "    </tr>\n",
       "    <tr>\n",
       "      <td>50527</td>\n",
       "      <td>8.435358</td>\n",
       "      <td>1788.284755</td>\n",
       "      <td>84.742500</td>\n",
       "      <td>31-12-2018 23:30</td>\n",
       "      <td>7</td>\n",
       "      <td>15.666667</td>\n",
       "      <td>-0.708333</td>\n",
       "      <td>1.333333</td>\n",
       "      <td>72.166667</td>\n",
       "      <td>0.0</td>\n",
       "      <td>1023.708333</td>\n",
       "      <td>2201.106934</td>\n",
       "    </tr>\n",
       "    <tr>\n",
       "      <td>50528</td>\n",
       "      <td>9.421366</td>\n",
       "      <td>2418.382503</td>\n",
       "      <td>84.297913</td>\n",
       "      <td>31-12-2018 23:40</td>\n",
       "      <td>7</td>\n",
       "      <td>15.666667</td>\n",
       "      <td>-0.708333</td>\n",
       "      <td>1.333333</td>\n",
       "      <td>72.166667</td>\n",
       "      <td>0.0</td>\n",
       "      <td>1023.708333</td>\n",
       "      <td>2515.694092</td>\n",
       "    </tr>\n",
       "    <tr>\n",
       "      <td>50529</td>\n",
       "      <td>9.979332</td>\n",
       "      <td>2779.184096</td>\n",
       "      <td>82.274620</td>\n",
       "      <td>31-12-2018 23:50</td>\n",
       "      <td>7</td>\n",
       "      <td>15.666667</td>\n",
       "      <td>-0.708333</td>\n",
       "      <td>1.333333</td>\n",
       "      <td>72.166667</td>\n",
       "      <td>0.0</td>\n",
       "      <td>1023.708333</td>\n",
       "      <td>2820.466064</td>\n",
       "    </tr>\n",
       "  </tbody>\n",
       "</table>\n",
       "<p>50530 rows × 12 columns</p>\n",
       "</div>"
      ],
      "text/plain": [
       "       Wind Speed (m/s)  Theoretical_Power_Curve (KWh)  Wind Direction  \\\n",
       "0              5.311336                     416.328908      259.994904   \n",
       "1              5.672167                     519.917511      268.641113   \n",
       "2              5.216037                     390.900016      272.564789   \n",
       "3              5.659674                     516.127569      271.258087   \n",
       "4              5.577941                     491.702972      265.674286   \n",
       "...                 ...                            ...             ...   \n",
       "50525         11.404030                    3397.190793       80.502724   \n",
       "50526          7.332648                    1173.055771       84.062599   \n",
       "50527          8.435358                    1788.284755       84.742500   \n",
       "50528          9.421366                    2418.382503       84.297913   \n",
       "50529          9.979332                    2779.184096       82.274620   \n",
       "\n",
       "               end_date  maxtempC  windGustKmph  DewPointC  windChillC  \\\n",
       "0      01-01-2018 00:00        10     11.125000   2.208333    6.333333   \n",
       "1      01-01-2018 00:10        10     11.125000   2.208333    6.333333   \n",
       "2      01-01-2018 00:20        10     11.125000   2.208333    6.333333   \n",
       "3      01-01-2018 00:30        10     11.125000   2.208333    6.333333   \n",
       "4      01-01-2018 00:40        10     11.125000   2.208333    6.333333   \n",
       "...                 ...       ...           ...        ...         ...   \n",
       "50525  31-12-2018 23:10         7     15.666667  -0.708333    1.333333   \n",
       "50526  31-12-2018 23:20         7     15.666667  -0.708333    1.333333   \n",
       "50527  31-12-2018 23:30         7     15.666667  -0.708333    1.333333   \n",
       "50528  31-12-2018 23:40         7     15.666667  -0.708333    1.333333   \n",
       "50529  31-12-2018 23:50         7     15.666667  -0.708333    1.333333   \n",
       "\n",
       "        humidity  precipMM     pressure  LV ActivePower  \n",
       "0      69.916667       0.0  1017.625000      380.047790  \n",
       "1      69.916667       0.0  1017.625000      453.769196  \n",
       "2      69.916667       0.0  1017.625000      306.376587  \n",
       "3      69.916667       0.0  1017.625000      419.645904  \n",
       "4      69.916667       0.0  1017.625000      380.650696  \n",
       "...          ...       ...          ...             ...  \n",
       "50525  72.166667       0.0  1023.708333     2963.980957  \n",
       "50526  72.166667       0.0  1023.708333     1684.353027  \n",
       "50527  72.166667       0.0  1023.708333     2201.106934  \n",
       "50528  72.166667       0.0  1023.708333     2515.694092  \n",
       "50529  72.166667       0.0  1023.708333     2820.466064  \n",
       "\n",
       "[50530 rows x 12 columns]"
      ]
     },
     "execution_count": 3,
     "metadata": {},
     "output_type": "execute_result"
    }
   ],
   "source": [
    "data2"
   ]
  },
  {
   "cell_type": "code",
   "execution_count": 7,
   "metadata": {},
   "outputs": [],
   "source": [
    "#Select all rows and column 1 from dataset to x and all rows and column 2 as y\n",
    "x = data2.iloc[:,0:2].values  \n",
    "y = data2.iloc[:, 11].values  "
   ]
  },
  {
   "cell_type": "code",
   "execution_count": 8,
   "metadata": {},
   "outputs": [
    {
     "data": {
      "text/plain": [
       "array([[   5.31133604,  416.3289078 ],\n",
       "       [   5.67216682,  519.9175111 ],\n",
       "       [   5.2160368 ,  390.9000158 ],\n",
       "       ...,\n",
       "       [   8.43535805, 1788.284755  ],\n",
       "       [   9.42136574, 2418.382503  ],\n",
       "       [   9.97933197, 2779.184096  ]])"
      ]
     },
     "execution_count": 8,
     "metadata": {},
     "output_type": "execute_result"
    }
   ],
   "source": [
    "x"
   ]
  },
  {
   "cell_type": "code",
   "execution_count": 9,
   "metadata": {},
   "outputs": [
    {
     "data": {
      "text/plain": [
       "array([ 380.0477905,  453.7691956,  306.3765869, ..., 2201.106934 ,\n",
       "       2515.694092 , 2820.466064 ])"
      ]
     },
     "execution_count": 9,
     "metadata": {},
     "output_type": "execute_result"
    }
   ],
   "source": [
    "y"
   ]
  },
  {
   "cell_type": "code",
   "execution_count": 11,
   "metadata": {},
   "outputs": [],
   "source": [
    "from sklearn.model_selection import train_test_split\n",
    "train_x,val_x,train_y,val_y=train_test_split(x,y,test_size=0.2,random_state=0)"
   ]
  },
  {
   "cell_type": "code",
   "execution_count": 13,
   "metadata": {},
   "outputs": [],
   "source": [
    "#Fit Random forest regressor to the dataset\n",
    "# import the regressor \n",
    "from sklearn.ensemble import RandomForestRegressor \n",
    "from sklearn.metrics import mean_absolute_error,r2_score"
   ]
  },
  {
   "cell_type": "code",
   "execution_count": 14,
   "metadata": {},
   "outputs": [],
   "source": [
    "# create regressor object \n",
    "regressor = RandomForestRegressor(max_leaf_nodes=500,random_state=1)"
   ]
  },
  {
   "cell_type": "code",
   "execution_count": 15,
   "metadata": {},
   "outputs": [
    {
     "name": "stderr",
     "output_type": "stream",
     "text": [
      "C:\\Python\\lib\\site-packages\\sklearn\\ensemble\\forest.py:245: FutureWarning: The default value of n_estimators will change from 10 in version 0.20 to 100 in 0.22.\n",
      "  \"10 in version 0.20 to 100 in 0.22.\", FutureWarning)\n"
     ]
    },
    {
     "data": {
      "text/plain": [
       "RandomForestRegressor(bootstrap=True, criterion='mse', max_depth=None,\n",
       "                      max_features='auto', max_leaf_nodes=500,\n",
       "                      min_impurity_decrease=0.0, min_impurity_split=None,\n",
       "                      min_samples_leaf=1, min_samples_split=2,\n",
       "                      min_weight_fraction_leaf=0.0, n_estimators=10,\n",
       "                      n_jobs=None, oob_score=False, random_state=1, verbose=0,\n",
       "                      warm_start=False)"
      ]
     },
     "execution_count": 15,
     "metadata": {},
     "output_type": "execute_result"
    }
   ],
   "source": [
    "# fit the regressor with x and y data \n",
    "regressor.fit(train_x, train_y)   "
   ]
  },
  {
   "cell_type": "code",
   "execution_count": 16,
   "metadata": {},
   "outputs": [],
   "source": [
    "#Predict a new result\n",
    "y_pred = regressor.predict(val_x)  # test the output by changing values \n"
   ]
  },
  {
   "cell_type": "code",
   "execution_count": 17,
   "metadata": {},
   "outputs": [
    {
     "name": "stdout",
     "output_type": "stream",
     "text": [
      "163.94773656374005\n"
     ]
    }
   ],
   "source": [
    "print(mean_absolute_error(val_y,y_pred))"
   ]
  },
  {
   "cell_type": "code",
   "execution_count": 18,
   "metadata": {},
   "outputs": [
    {
     "name": "stdout",
     "output_type": "stream",
     "text": [
      "0.8983694911274634\n"
     ]
    }
   ],
   "source": [
    "print(r2_score(val_y,y_pred))"
   ]
  },
  {
   "cell_type": "code",
   "execution_count": 19,
   "metadata": {},
   "outputs": [
    {
     "data": {
      "text/plain": [
       "['power_prediction.sav']"
      ]
     },
     "execution_count": 19,
     "metadata": {},
     "output_type": "execute_result"
    }
   ],
   "source": [
    "joblib.dump(regressor,\"power_prediction.sav\")"
   ]
  },
  {
   "cell_type": "code",
   "execution_count": null,
   "metadata": {},
   "outputs": [],
   "source": []
  }
 ],
 "metadata": {
  "kernelspec": {
   "display_name": "Python 3",
   "language": "python",
   "name": "python3"
  },
  "language_info": {
   "codemirror_mode": {
    "name": "ipython",
    "version": 3
   },
   "file_extension": ".py",
   "mimetype": "text/x-python",
   "name": "python",
   "nbconvert_exporter": "python",
   "pygments_lexer": "ipython3",
   "version": "3.7.4"
  }
 },
 "nbformat": 4,
 "nbformat_minor": 2
}
