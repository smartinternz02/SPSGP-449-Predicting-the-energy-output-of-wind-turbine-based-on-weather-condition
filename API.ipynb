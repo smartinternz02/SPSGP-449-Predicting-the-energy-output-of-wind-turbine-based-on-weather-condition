{
 "cells": [
  {
   "cell_type": "code",
   "execution_count": 20,
   "metadata": {},
   "outputs": [
    {
     "name": "stdout",
     "output_type": "stream",
     "text": [
      "Enter a place namekarnataka\n",
      "24.36 33 1013 2.98\n"
     ]
    }
   ],
   "source": [
    "import requests\n",
    "apikey=\"fa2e55e929fcd9851a4822bf641d9f94\"\n",
    "place=input(\"Enter a place name\")\n",
    "resp=requests.get(\"http://api.openweathermap.org/data/2.5/weather?q=\"+place+\"&appid=\"+apikey+\"&units=metric\")\n",
    "resp=resp.json()\n",
    "temp=resp[\"main\"][\"temp\"]\n",
    "humid=resp[\"main\"][\"humidity\"]\n",
    "pressure=resp[\"main\"][\"pressure\"]\n",
    "speed=resp[\"wind\"][\"speed\"]\n",
    "print(temp,humid,pressure,speed)"
   ]
  },
  {
   "cell_type": "code",
   "execution_count": null,
   "metadata": {},
   "outputs": [],
   "source": []
  },
  {
   "cell_type": "code",
   "execution_count": null,
   "metadata": {},
   "outputs": [],
   "source": []
  }
 ],
 "metadata": {
  "kernelspec": {
   "display_name": "Python 3",
   "language": "python",
   "name": "python3"
  },
  "language_info": {
   "codemirror_mode": {
    "name": "ipython",
    "version": 3
   },
   "file_extension": ".py",
   "mimetype": "text/x-python",
   "name": "python",
   "nbconvert_exporter": "python",
   "pygments_lexer": "ipython3",
   "version": "3.7.4"
  }
 },
 "nbformat": 4,
 "nbformat_minor": 2
}
